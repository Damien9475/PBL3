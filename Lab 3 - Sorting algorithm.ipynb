{
 "cells": [
  {
   "cell_type": "markdown",
   "metadata": {},
   "source": [
    "***\n",
    "# Lab 2 - Selection Sort\n",
    "***"
   ]
  },
  {
   "cell_type": "markdown",
   "metadata": {},
   "source": [
    "***\n",
    "## Exercise 1 : Selection Sort\n",
    "***"
   ]
  },
  {
   "cell_type": "markdown",
   "metadata": {
    "deletable": false,
    "editable": false
   },
   "source": [
    "1. Describe the steps involved in the selection sort"
   ]
  },
  {
   "cell_type": "markdown",
   "metadata": {},
   "source": [
    "*your answer here*"
   ]
  },
  {
   "cell_type": "markdown",
   "metadata": {
    "deletable": false,
    "editable": false
   },
   "source": [
    "2. Implement the selection sort algorithm. Then apply the algorithm by hand on the following algorithm\n",
    "L=[24,8,98,16,2,76,30,1].\n",
    "<br> \n",
    "Compare the results obtained at each step by executing the code."
   ]
  },
  {
   "cell_type": "markdown",
   "metadata": {},
   "source": [
    "*your answer here*"
   ]
  },
  {
   "cell_type": "code",
   "execution_count": null,
   "metadata": {},
   "outputs": [],
   "source": [
    "# YOUR CODE HERE"
   ]
  },
  {
   "cell_type": "markdown",
   "metadata": {
    "deletable": false,
    "editable": false
   },
   "source": [
    "3. The  selection sort algorithm starts with the smallest element in the remaining slice to be sorted. It is possible to sort from the largest element. Implement the algorithm in a function that takes a list and returns the sorted list in descending order."
   ]
  },
  {
   "cell_type": "code",
   "execution_count": null,
   "metadata": {},
   "outputs": [],
   "source": [
    "# YOUR CODE HERE"
   ]
  },
  {
   "cell_type": "markdown",
   "metadata": {
    "deletable": false,
    "editable": false
   },
   "source": [
    " 4. Determine the complexity of this algorithm by inserting a variable that tracks the number of operations performed. Compare the theoretical complexity with the value calculated."
   ]
  },
  {
   "cell_type": "code",
   "execution_count": null,
   "metadata": {},
   "outputs": [],
   "source": [
    "# YOUR CODE HERE"
   ]
  },
  {
   "cell_type": "markdown",
   "metadata": {
    "deletable": false,
    "editable": false
   },
   "source": [
    "***\n",
    "## Exercise 2 : Insertion Sort\n",
    "***"
   ]
  },
  {
   "cell_type": "markdown",
   "metadata": {
    "deletable": false,
    "editable": false
   },
   "source": [
    "1. Describe the steps involved in the insertion sort algorithm"
   ]
  },
  {
   "cell_type": "code",
   "execution_count": null,
   "metadata": {},
   "outputs": [],
   "source": [
    "# VOTRE CODE ICI"
   ]
  },
  {
   "cell_type": "markdown",
   "metadata": {
    "deletable": true,
    "editable": true,
    "slideshow": {
     "slide_type": ""
    },
    "tags": []
   },
   "source": [
    "2. Implement the insertion sort and apply it by hand on the following list\n",
    "L=[24,8,98,16,2,76,30,1]\n",
    "<br>\n",
    "Compare the results by hand with the ones from your code"
   ]
  },
  {
   "cell_type": "markdown",
   "metadata": {},
   "source": [
    "*Answer*"
   ]
  },
  {
   "cell_type": "code",
   "execution_count": null,
   "metadata": {},
   "outputs": [],
   "source": [
    "# YOUR CODE HERE"
   ]
  },
  {
   "cell_type": "markdown",
   "metadata": {
    "deletable": false,
    "editable": false
   },
   "source": [
    "3. We now want to invert the insertion sort by performing the sort from the last index to the first index.  Implement the modification in a new function."
   ]
  },
  {
   "cell_type": "code",
   "execution_count": null,
   "metadata": {},
   "outputs": [],
   "source": [
    "# YOUR CODE HERE"
   ]
  },
  {
   "cell_type": "markdown",
   "metadata": {
    "deletable": false,
    "editable": false
   },
   "source": [
    "4. Run the previous algorithm on the following list. What is the list obtained?\n",
    "<table>\n",
    " <tr>\n",
    "  <td>L= </td>     \n",
    "  <td style=\"background-color: LightSalmon\">B </td>\n",
    "  <td style=\"background-color: DarkSalmon\">O </td>\n",
    "  <td style=\"background-color: Salmon\">N </td>\n",
    "  <td style=\"background-color: pink\">J </td>\n",
    "  <td style=\"background-color: LightCoral\">O </td>\n",
    "  <td style=\"background-color: IndianRed\">U </td>\n",
    "  <td style=\"background-color: Coral\">R </td>\n",
    " </tr>\n",
    "</table>"
   ]
  },
  {
   "cell_type": "code",
   "execution_count": null,
   "metadata": {},
   "outputs": [],
   "source": [
    "# YOUR CODE HERE"
   ]
  },
  {
   "cell_type": "markdown",
   "metadata": {
    "deletable": false,
    "editable": false
   },
   "source": [
    "5. Modify the initial insertion sort algorithm to sort in descending order."
   ]
  },
  {
   "cell_type": "code",
   "execution_count": null,
   "metadata": {},
   "outputs": [],
   "source": [
    "# YOUR CODE HERE"
   ]
  },
  {
   "cell_type": "markdown",
   "metadata": {
    "deletable": false,
    "editable": false
   },
   "source": [
    "6. Calculate the complexity of this algorithm by inserting a variable calculating the number of operations performed. Compare the theoretical complexity with the displayed value."
   ]
  },
  {
   "cell_type": "code",
   "execution_count": null,
   "metadata": {},
   "outputs": [],
   "source": [
    "# YOUR CODE HERE"
   ]
  },
  {
   "cell_type": "markdown",
   "metadata": {},
   "source": [
    "***\n",
    "## Exercise 3: Bubble sort\n",
    "***\n",
    "\n",
    "Same questions as excercise 1 but for bubble sort"
   ]
  },
  {
   "cell_type": "code",
   "execution_count": null,
   "metadata": {},
   "outputs": [],
   "source": []
  },
  {
   "cell_type": "markdown",
   "metadata": {},
   "source": [
    "***\n",
    "## Excercise 4: Student grading app\n",
    "***\n",
    "\n",
    "We would like to implement a Python program that manages the information of a class of students. Each student is represented by a dictionary containing their name, first name, and grade. To do this:\n",
    "\n",
    "1. Define a function add_student(student_list, name, first_name, grade) that adds a new student to the list of students provided as a parameter. This function should take as input the list of students, the name, the first name, and the grade of the student to be added, and update the list of students."
   ]
  },
  {
   "cell_type": "code",
   "execution_count": null,
   "metadata": {},
   "outputs": [],
   "source": []
  },
  {
   "cell_type": "markdown",
   "metadata": {},
   "source": [
    "2. Define a function sort_by_grade(student_list) that sorts the list of students based on their grade, in descending order. You can use any sorting method for this."
   ]
  },
  {
   "cell_type": "code",
   "execution_count": null,
   "metadata": {},
   "outputs": [],
   "source": []
  },
  {
   "cell_type": "markdown",
   "metadata": {},
   "source": [
    "3. Write a test code that creates a list of students, adds a few students to this list, then sorts the list by grade and displays it."
   ]
  },
  {
   "cell_type": "code",
   "execution_count": null,
   "metadata": {},
   "outputs": [],
   "source": []
  },
  {
   "cell_type": "markdown",
   "metadata": {},
   "source": [
    "***\n",
    "## Exercise 5: Dutch National Flag problem\n",
    "***\n",
    "\n",
    "The Dutch National Flag sorting algorithm addresses a specific problem: reorganizing a collection of elements identified by their color, knowing that only three colors are present (for example, red, white, blue, in the case of the Dutch flag). To simplify, we will use integers instead of colors.\n",
    "\n",
    "1. Define a list of 15 integers where the elements are random numbers between 1 and 3 (inclusive)."
   ]
  },
  {
   "cell_type": "code",
   "execution_count": null,
   "metadata": {},
   "outputs": [],
   "source": []
  },
  {
   "cell_type": "markdown",
   "metadata": {},
   "source": [
    "2. Write a function `dutch_flag_sort(list)` that takes as a parameter a list whose elements can only have three different values and sorts it as follows: all elements with the value 1 are at the beginning of the list, followed by elements with the value 2, and then elements with the value 3. Note that we want a true sort, meaning that you should not simply count the occurrences of each element and redefine a new array, but rather swap the elements with each other to obtain the desired list."
   ]
  },
  {
   "cell_type": "code",
   "execution_count": null,
   "metadata": {},
   "outputs": [],
   "source": []
  },
  {
   "cell_type": "markdown",
   "metadata": {},
   "source": [
    "3. Same question but with $O(n)$ complexity."
   ]
  },
  {
   "cell_type": "code",
   "execution_count": null,
   "metadata": {},
   "outputs": [],
   "source": []
  },
  {
   "cell_type": "markdown",
   "metadata": {},
   "source": [
    "*** \n",
    "## Exercise 6: Algorithmic complexity ##\n",
    "***"
   ]
  },
  {
   "cell_type": "markdown",
   "metadata": {},
   "source": [
    "1. What is the cost of the following algorithm?\n",
    "``` python\n",
    "def presence_test(L):\n",
    "    if 2 in L:\n",
    "        print(\"It is there\")\n",
    "    else:\n",
    "        print(\"It is not there\")\n",
    "```"
   ]
  },
  {
   "cell_type": "markdown",
   "metadata": {},
   "source": []
  },
  {
   "cell_type": "markdown",
   "metadata": {},
   "source": [
    "2. What is the cost of the following algorithm?\n",
    "``` python\n",
    "if a == 0:\n",
    "    print ( \"a should not be 0\" )\n",
    "else :\n",
    "    L . remove ( a )\n",
    "```"
   ]
  },
  {
   "cell_type": "markdown",
   "metadata": {},
   "source": []
  },
  {
   "cell_type": "markdown",
   "metadata": {},
   "source": [
    "3. What is the cost of the following algorithm?\n",
    "``` python\n",
    "for i in range (11) :\n",
    "     print(i∗n)\n",
    "```"
   ]
  },
  {
   "cell_type": "markdown",
   "metadata": {},
   "source": []
  },
  {
   "cell_type": "markdown",
   "metadata": {},
   "source": [
    "4. What is the cost of the following algorithm?\n",
    "``` python\n",
    "for i in range (n) :\n",
    "     print(i∗i)\n",
    "```"
   ]
  },
  {
   "cell_type": "markdown",
   "metadata": {},
   "source": []
  },
  {
   "cell_type": "markdown",
   "metadata": {},
   "source": [
    "5. What is the cost of the following algorithm?\n",
    "``` python\n",
    "for i in range (n) :\n",
    "     for j in range (n) :\n",
    "             print(i∗j)\n",
    "```"
   ]
  },
  {
   "cell_type": "markdown",
   "metadata": {},
   "source": []
  },
  {
   "cell_type": "markdown",
   "metadata": {},
   "source": [
    "6. What is the cost of the following algorithm?\n",
    "``` python\n",
    "for i in range (n) :\n",
    "        for j in range (i) :\n",
    "                print(i∗j)\n",
    "```"
   ]
  },
  {
   "cell_type": "markdown",
   "metadata": {},
   "source": []
  },
  {
   "cell_type": "markdown",
   "metadata": {},
   "source": [
    "7. What is the cost of the following algorithm?\n",
    "``` python\n",
    "for i in range (5, n - 4) :\n",
    "     for j in range (i - 5, i + 6) :\n",
    "             print(x+2)\n",
    "```"
   ]
  },
  {
   "cell_type": "markdown",
   "metadata": {},
   "source": []
  },
  {
   "cell_type": "markdown",
   "metadata": {},
   "source": [
    "8. What is the cost of the following algorithm?\n",
    "``` python\n",
    "for i in range (1, n+1) :\n",
    "     for j in range (1, i+1):\n",
    "             for k in range (1, j+1):\n",
    "                     sudripyth(x)\n",
    "```"
   ]
  },
  {
   "cell_type": "markdown",
   "metadata": {},
   "source": []
  }
 ],
 "metadata": {
  "celltoolbar": "Format de la Cellule Texte Brut",
  "kernelspec": {
   "display_name": "Python 3 (ipykernel)",
   "language": "python",
   "name": "python3"
  },
  "language_info": {
   "codemirror_mode": {
    "name": "ipython",
    "version": 3
   },
   "file_extension": ".py",
   "mimetype": "text/x-python",
   "name": "python",
   "nbconvert_exporter": "python",
   "pygments_lexer": "ipython3",
   "version": "3.12.7"
  },
  "varInspector": {
   "cols": {
    "lenName": 16,
    "lenType": 16,
    "lenVar": 40
   },
   "kernels_config": {
    "python": {
     "delete_cmd_postfix": "",
     "delete_cmd_prefix": "del ",
     "library": "var_list.py",
     "varRefreshCmd": "print(var_dic_list())"
    },
    "r": {
     "delete_cmd_postfix": ") ",
     "delete_cmd_prefix": "rm(",
     "library": "var_list.r",
     "varRefreshCmd": "cat(var_dic_list()) "
    }
   },
   "types_to_exclude": [
    "module",
    "function",
    "builtin_function_or_method",
    "instance",
    "_Feature"
   ],
   "window_display": false
  }
 },
 "nbformat": 4,
 "nbformat_minor": 4
}
